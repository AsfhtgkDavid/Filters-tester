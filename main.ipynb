{
 "cells": [
  {
   "cell_type": "code",
   "execution_count": 1,
   "metadata": {},
   "outputs": [],
   "source": [
    "import tester\n",
    "\n",
    "from utils import TimeFrame"
   ]
  },
  {
   "cell_type": "code",
   "execution_count": 2,
   "metadata": {},
   "outputs": [],
   "source": [
    "Symbol = 'ETHUSDT'\n",
    "INITIAL_AMOUNT = 20000"
   ]
  },
  {
   "cell_type": "code",
   "execution_count": 3,
   "metadata": {},
   "outputs": [
    {
     "name": "stderr",
     "output_type": "stream",
     "text": [
      "/home/david/PycharmProjects/Filters-tester/venv/lib/python3.12/site-packages/pandas/core/arraylike.py:399: RuntimeWarning: divide by zero encountered in log10\n",
      "  result = getattr(ufunc, method)(*inputs, **kwargs)\n",
      "/home/david/PycharmProjects/Filters-tester/dataset/_base.py:158: FutureWarning: Setting an item of incompatible dtype is deprecated and will raise an error in a future version of pandas. Value '[  69.8681826   112.915299   1920.5552025  ... 2968.32712993  238.70868\n",
      "  128.939213  ]' has dtype incompatible with int64, please explicitly cast to a compatible dtype first.\n",
      "  resp = indicator(*[klines[col] for col in args])\n",
      "/home/david/PycharmProjects/Filters-tester/dataset/_base.py:158: FutureWarning: Setting an item of incompatible dtype is deprecated and will raise an error in a future version of pandas. Value '[  29.79       227.685311   270.144018  ...   30.3720249 1566.1241318\n",
      " 1623.5692864]' has dtype incompatible with int64, please explicitly cast to a compatible dtype first.\n",
      "  resp = indicator(*[klines[col] for col in args])\n",
      "/home/david/PycharmProjects/Filters-tester/venv/lib/python3.12/site-packages/numpy/core/fromnumeric.py:59: FutureWarning: 'DataFrame.swapaxes' is deprecated and will be removed in a future version. Please use 'DataFrame.transpose' instead.\n",
      "  return bound(*args, **kwds)\n",
      "/home/david/PycharmProjects/Filters-tester/venv/lib/python3.12/site-packages/pandas_ta/overlap/linreg.py:52: RuntimeWarning: invalid value encountered in scalar power\n",
      "  rd = (divisor * (length * y2_sum - y_sum * y_sum)) ** 0.5\n",
      "/home/david/PycharmProjects/Filters-tester/venv/lib/python3.12/site-packages/pandas_ta/overlap/linreg.py:53: RuntimeWarning: divide by zero encountered in scalar divide\n",
      "  return rn / rd\n",
      "/home/david/PycharmProjects/Filters-tester/venv/lib/python3.12/site-packages/pandas_ta/overlap/linreg.py:53: RuntimeWarning: invalid value encountered in scalar divide\n",
      "  return rn / rd\n",
      "/home/david/PycharmProjects/Filters-tester/dataset/_base.py:158: FutureWarning: Setting an item of incompatible dtype is deprecated and will raise an error in a future version of pandas. Value '23.07334570191715' has dtype incompatible with int64, please explicitly cast to a compatible dtype first.\n",
      "  resp = indicator(*[klines[col] for col in args])\n"
     ]
    },
    {
     "name": "stdout",
     "output_type": "stream",
     "text": [
      "[!] VWAP volume series is not datetime ordered. Results may not be as expected.\n",
      "[!] VWAP price series is not datetime ordered. Results may not be as expected.\n"
     ]
    }
   ],
   "source": [
    "trades = tester.read_trades_from_csv('TradesList-ETH11-min.csv')\n",
    "start_date, end_date = tester.get_date_range(trades)\n",
    "dataset = tester.fetch_market_data(Symbol, TimeFrame(1, 'm'), start_date, end_date)"
   ]
  },
  {
   "cell_type": "code",
   "execution_count": 4,
   "metadata": {},
   "outputs": [],
   "source": [
    "res = tester.apply_filters(trades, dataset)\n"
   ]
  },
  {
   "cell_type": "code",
   "execution_count": 5,
   "metadata": {},
   "outputs": [
    {
     "name": "stdout",
     "output_type": "stream",
     "text": [
      "Total Trades - No trades to calculate statistics.\n",
      "Long Trades - No trades to calculate statistics.\n",
      "Short Trades - No trades to calculate statistics.\n"
     ]
    }
   ],
   "source": [
    "tester.calculate_statistics(res)"
   ]
  }
 ],
 "metadata": {
  "kernelspec": {
   "display_name": "venv",
   "language": "python",
   "name": "python3"
  },
  "language_info": {
   "codemirror_mode": {
    "name": "ipython",
    "version": 3
   },
   "file_extension": ".py",
   "mimetype": "text/x-python",
   "name": "python",
   "nbconvert_exporter": "python",
   "pygments_lexer": "ipython3",
   "version": "3.12.3"
  }
 },
 "nbformat": 4,
 "nbformat_minor": 2
}
